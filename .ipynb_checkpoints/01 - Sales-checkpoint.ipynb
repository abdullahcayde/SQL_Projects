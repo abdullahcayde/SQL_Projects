{
 "cells": [
  {
   "cell_type": "code",
   "execution_count": 1,
   "id": "bd99e6aa-69b2-4c36-8342-d7857ad62904",
   "metadata": {},
   "outputs": [],
   "source": [
    "# Libraries \n",
    "\n",
    "import psycopg2\n",
    "import psycopg2.extras"
   ]
  },
  {
   "cell_type": "markdown",
   "id": "40d468ee-db1c-4861-8a32-d8e4202178a9",
   "metadata": {},
   "source": [
    "# PostgreSQL"
   ]
  },
  {
   "cell_type": "markdown",
   "id": "728368db-1b75-4418-b26b-2e2392f089ce",
   "metadata": {},
   "source": [
    "## Connect to Database"
   ]
  },
  {
   "cell_type": "code",
   "execution_count": 3,
   "id": "8b3bcb99-57e5-4cb5-bd5a-ec7dbb1a0527",
   "metadata": {},
   "outputs": [],
   "source": [
    "hostname = 'localhost'\n",
    "database = 'sales'\n",
    "username = 'postgres'\n",
    "pwd = 1984\n",
    "port_id = 5432\n",
    "\n",
    "conn = psycopg2.connect(\n",
    "    host = hostname,\n",
    "    dbname = database,\n",
    "    user = username,\n",
    "    password = pwd,\n",
    "    port = port_id)\n",
    "\n",
    "cur = conn.cursor(cursor_factory = psycopg2.extras.DictCursor)"
   ]
  },
  {
   "cell_type": "markdown",
   "id": "de017deb-f509-4823-b4f6-3a322925235d",
   "metadata": {},
   "source": [
    "## Look at all Table Names"
   ]
  },
  {
   "cell_type": "code",
   "execution_count": 4,
   "id": "8b831b31-83ff-4549-8744-ad7572b821bb",
   "metadata": {},
   "outputs": [
    {
     "name": "stdout",
     "output_type": "stream",
     "text": [
      "['sales', 'public', 'employee', 'BASE TABLE', None, None, None, None, None, 'YES', 'NO', None]\n",
      "['sales', 'public', 'v2', 'VIEW', None, None, None, None, None, 'NO', 'NO', None]\n",
      "['sales', 'public', 'web_events', 'BASE TABLE', None, None, None, None, None, 'YES', 'NO', None]\n",
      "['sales', 'public', 'sales_reps', 'BASE TABLE', None, None, None, None, None, 'YES', 'NO', None]\n",
      "['sales', 'public', 'region', 'BASE TABLE', None, None, None, None, None, 'YES', 'NO', None]\n",
      "['sales', 'public', 'orders', 'BASE TABLE', None, None, None, None, None, 'YES', 'NO', None]\n",
      "['sales', 'public', 'accounts', 'BASE TABLE', None, None, None, None, None, 'YES', 'NO', None]\n"
     ]
    }
   ],
   "source": [
    "query = \"SELECT * FROM information_schema.tables WHERE table_schema = 'public'\"\n",
    "cur.execute(query)\n",
    "for record in cur.fetchall():\n",
    "    print(record)"
   ]
  },
  {
   "cell_type": "markdown",
   "id": "d86cf43b-ecb0-429e-8d54-39eb9bfbe0e6",
   "metadata": {},
   "source": [
    "## General Look all Tables"
   ]
  },
  {
   "cell_type": "markdown",
   "id": "8bb74677-a935-44a8-89a5-345ca7f835b1",
   "metadata": {},
   "source": [
    "### ERD - Entity Relationship Diagrams"
   ]
  },
  {
   "cell_type": "markdown",
   "id": "97835ab7-2d82-4289-8c70-aeec6b3ff501",
   "metadata": {},
   "source": [
    "![ERD](01.png)"
   ]
  },
  {
   "cell_type": "markdown",
   "id": "2736a124-c20c-474f-b29d-33c056df7116",
   "metadata": {},
   "source": [
    "### web_events"
   ]
  },
  {
   "cell_type": "code",
   "execution_count": 5,
   "id": "416b17fe-3d77-4fe4-9011-7bd4e38f2bcf",
   "metadata": {},
   "outputs": [
    {
     "name": "stdout",
     "output_type": "stream",
     "text": [
      "[1, 1001, datetime.datetime(2015, 10, 6, 17, 13, 58), 'direct']\n",
      "[2, 1001, datetime.datetime(2015, 11, 5, 3, 8, 26), 'direct']\n",
      "[3, 1001, datetime.datetime(2015, 12, 4, 3, 57, 24), 'direct']\n",
      "[4, 1001, datetime.datetime(2016, 1, 2, 0, 55, 3), 'direct']\n",
      "[5, 1001, datetime.datetime(2016, 2, 1, 19, 2, 33), 'direct']\n"
     ]
    }
   ],
   "source": [
    "query = 'SELECT * FROM web_events LIMIT 5'\n",
    "cur.execute(query)\n",
    "for record in cur.fetchall():\n",
    "    print(record)"
   ]
  },
  {
   "cell_type": "markdown",
   "id": "8a2c2f8d-cba1-4fca-8c80-b3b9b5bd48f3",
   "metadata": {},
   "source": [
    "### accounts"
   ]
  },
  {
   "cell_type": "code",
   "execution_count": 6,
   "id": "4f81f76f-99f3-4905-9f76-5254152d7ac4",
   "metadata": {},
   "outputs": [
    {
     "name": "stdout",
     "output_type": "stream",
     "text": [
      "[1001, 'Walmart', 'www.walmart.com', Decimal('40.23849561'), Decimal('-75.10329704'), 'Tamara Tuma', 321500]\n",
      "[1011, 'Exxon Mobil', 'www.exxonmobil.com', Decimal('41.16915630'), Decimal('-73.84937379'), 'Sung Shields', 321510]\n",
      "[1021, 'Apple', 'www.apple.com', Decimal('42.29049481'), Decimal('-76.08400942'), 'Jodee Lupo', 321520]\n",
      "[1031, 'Berkshire Hathaway', 'www.berkshirehathaway.com', Decimal('40.94902131'), Decimal('-75.76389759'), 'Serafina Banda', 321530]\n",
      "[1041, 'McKesson', 'www.mckesson.com', Decimal('42.21709326'), Decimal('-75.28499823'), 'Angeles Crusoe', 321540]\n"
     ]
    }
   ],
   "source": [
    "query = 'SELECT * FROM accounts LIMIT 5'\n",
    "cur.execute(query)\n",
    "for record in cur.fetchall():\n",
    "    print(record)"
   ]
  },
  {
   "cell_type": "markdown",
   "id": "48fad56a-3211-4f3b-9288-486622cedc13",
   "metadata": {},
   "source": [
    "### orders "
   ]
  },
  {
   "cell_type": "code",
   "execution_count": 7,
   "id": "c1d03a77-35e5-4f05-b300-3288ac75fe4d",
   "metadata": {},
   "outputs": [
    {
     "name": "stdout",
     "output_type": "stream",
     "text": [
      "[1, 1001, datetime.datetime(2015, 10, 6, 17, 31, 14), 123, 22, 24, 169, Decimal('613.77'), Decimal('164.78'), Decimal('194.88'), Decimal('973.43')]\n",
      "[2, 1001, datetime.datetime(2015, 11, 5, 3, 34, 33), 190, 41, 57, 288, Decimal('948.10'), Decimal('307.09'), Decimal('462.84'), Decimal('1718.03')]\n",
      "[3, 1001, datetime.datetime(2015, 12, 4, 4, 21, 55), 85, 47, 0, 132, Decimal('424.15'), Decimal('352.03'), Decimal('0.00'), Decimal('776.18')]\n",
      "[4, 1001, datetime.datetime(2016, 1, 2, 1, 18, 24), 144, 32, 0, 176, Decimal('718.56'), Decimal('239.68'), Decimal('0.00'), Decimal('958.24')]\n",
      "[5, 1001, datetime.datetime(2016, 2, 1, 19, 27, 27), 108, 29, 28, 165, Decimal('538.92'), Decimal('217.21'), Decimal('227.36'), Decimal('983.49')]\n"
     ]
    }
   ],
   "source": [
    "query = 'SELECT * FROM orders LIMIT 5'\n",
    "cur.execute(query)\n",
    "for record in cur.fetchall():\n",
    "    print(record)"
   ]
  },
  {
   "cell_type": "markdown",
   "id": "a262335d-b2e8-44ce-8e85-d595f61013a5",
   "metadata": {},
   "source": [
    "### sales_reps"
   ]
  },
  {
   "cell_type": "code",
   "execution_count": 8,
   "id": "b32a1963-e93e-4520-ab99-f641dbd8865e",
   "metadata": {},
   "outputs": [
    {
     "name": "stdout",
     "output_type": "stream",
     "text": [
      "[321500, 'Samuel Racine', 1]\n",
      "[321510, 'Eugena Esser', 1]\n",
      "[321520, 'Michel Averette', 1]\n",
      "[321530, 'Renetta Carew', 1]\n",
      "[321540, 'Cara Clarke', 1]\n"
     ]
    }
   ],
   "source": [
    "query = 'SELECT * FROM sales_reps LIMIT 5'\n",
    "cur.execute(query)\n",
    "for record in cur.fetchall():\n",
    "    print(record)"
   ]
  },
  {
   "cell_type": "markdown",
   "id": "8218535f-3ff0-41ca-8cb6-98af078e3225",
   "metadata": {},
   "source": [
    "### region"
   ]
  },
  {
   "cell_type": "code",
   "execution_count": 9,
   "id": "d65199b5-40ba-4e57-b164-a347595fa839",
   "metadata": {},
   "outputs": [
    {
     "name": "stdout",
     "output_type": "stream",
     "text": [
      "[1, 'Northeast']\n",
      "[2, 'Midwest']\n",
      "[3, 'Southeast']\n",
      "[4, 'West']\n"
     ]
    }
   ],
   "source": [
    "query = 'SELECT * FROM region LIMIT 5'\n",
    "cur.execute(query)\n",
    "for record in cur.fetchall():\n",
    "    print(record)"
   ]
  },
  {
   "cell_type": "code",
   "execution_count": null,
   "id": "69715b3f-392e-4ff1-bef8-c3d1f3a898dc",
   "metadata": {},
   "outputs": [],
   "source": []
  },
  {
   "cell_type": "code",
   "execution_count": null,
   "id": "08998562-2ff8-4ff6-9641-46ff208d4e24",
   "metadata": {},
   "outputs": [],
   "source": []
  },
  {
   "cell_type": "code",
   "execution_count": null,
   "id": "54009e37-88fb-4120-b42f-7972988cb94e",
   "metadata": {},
   "outputs": [],
   "source": []
  },
  {
   "cell_type": "code",
   "execution_count": null,
   "id": "699bc705-ab27-4ee1-8c67-b90a3f7a9e67",
   "metadata": {},
   "outputs": [],
   "source": []
  },
  {
   "cell_type": "code",
   "execution_count": null,
   "id": "903ae85a-d29d-453d-aa50-c244bc517468",
   "metadata": {},
   "outputs": [],
   "source": []
  },
  {
   "cell_type": "markdown",
   "id": "69de63ae-bc99-4d0f-850e-32cb1378a80a",
   "metadata": {},
   "source": [
    "## Subqueries"
   ]
  },
  {
   "cell_type": "code",
   "execution_count": 15,
   "id": "dab62513-9ae6-4e96-ae87-fd7839c9e4c9",
   "metadata": {},
   "outputs": [
    {
     "name": "stdout",
     "output_type": "stream",
     "text": [
      "[1001, 'Walmart', 'direct', 22]\n",
      "[1011, 'Exxon Mobil', 'facebook', 1]\n",
      "[1011, 'Exxon Mobil', 'direct', 1]\n",
      "[1011, 'Exxon Mobil', 'adwords', 1]\n",
      "[1021, 'Apple', 'direct', 9]\n"
     ]
    }
   ],
   "source": [
    "# What is the top channel used by each account to market products?\n",
    "# How often was that same channel used?\n",
    "\n",
    "SELECT t3.id, t3.name, t3.channel, t3.ct\n",
    "FROM (SELECT a.id, a.name, we.channel, COUNT(*) ct\n",
    "     FROM accounts a\n",
    "     JOIN web_events we\n",
    "     On a.id = we.account_id\n",
    "     GROUP BY a.id, a.name, we.channel) T3\n",
    "JOIN (SELECT t1.id, t1.name, MAX(ct) max_chan\n",
    "      FROM (SELECT a.id, a.name, we.channel, COUNT(*) ct\n",
    "            FROM accounts a\n",
    "            JOIN web_events we\n",
    "            ON a.id = we.account_id\n",
    "            GROUP BY a.id, a.name, we.channel) t1\n",
    "      GROUP BY t1.id, t1.name) t2\n",
    "ON t2.id = t3.id AND t2.max_chan = t3.ct\n",
    "ORDER BY t3.id;\n",
    "\n",
    "\n",
    "query = \"   SELECT t3.id, t3.name, t3.channel, t3.ct                     \\\n",
    "            FROM (SELECT a.id, a.name, we.channel, COUNT(*) ct           \\\n",
    "                 FROM accounts a                                         \\\n",
    "                 JOIN web_events we                                      \\\n",
    "                 On a.id = we.account_id                                 \\\n",
    "                 GROUP BY a.id, a.name, we.channel) T3                   \\\n",
    "            JOIN (SELECT t1.id, t1.name, MAX(ct) max_chan                \\\n",
    "                  FROM (SELECT a.id, a.name, we.channel, COUNT(*) ct     \\\n",
    "                        FROM accounts a                                  \\\n",
    "                        JOIN web_events we                               \\\n",
    "                        ON a.id = we.account_id                          \\\n",
    "                        GROUP BY a.id, a.name, we.channel) t1            \\\n",
    "                  GROUP BY t1.id, t1.name) t2                            \\\n",
    "            ON t2.id = t3.id AND t2.max_chan = t3.ct                     \\\n",
    "            ORDER BY t3.id                                               \\\n",
    "            LIMIT 5                                                      \\\n",
    "\"\n",
    "cur.execute(query)\n",
    "for record in cur.fetchall():\n",
    "    print(record)"
   ]
  },
  {
   "cell_type": "code",
   "execution_count": null,
   "id": "ac4c2d13-206a-4fe1-81c5-b5ec51ce43ed",
   "metadata": {},
   "outputs": [],
   "source": [
    "## 1. Provide the name of the sales_rep in each region with the largest amount of total_amt_usd sales. \n",
    "\n",
    "## -- SOLUTION 01.01\n",
    "WITH t2 AS(\tSELECT  s.region_id, s.name s_name,  MAX(t1.max_amt) max_amt\n",
    "      FROM (SELECT a.sales_rep_id s_id, SUM(o.total_amt_usd) max_amt\n",
    "            FROM accounts a\n",
    "            JOIN orders o ON a.id = o.account_id\n",
    "            GROUP BY sales_rep_id\n",
    "            ORDER BY 2 DESC) t1\n",
    "     JOIN sales_reps s ON t1.s_id = s.id\n",
    "     GROUP BY s.region_id, s.name),\n",
    "     \n",
    "t3 AS ( SELECT  s.region_id, MAX(t4.max_amt) max_amt\n",
    "        FROM (SELECT a.sales_rep_id s_id, SUM(o.total_amt_usd) max_amt\n",
    "              FROM accounts a\n",
    "              JOIN orders o ON a.id = o.account_id\n",
    "              GROUP BY a.sales_rep_id\n",
    "              ORDER BY 2 DESC) t4\n",
    "        JOIN sales_reps s ON t4.s_id = s.id\n",
    "        GROUP BY s.region_id)\n",
    "\n",
    "SELECT   r.name, t2.s_name, t3.max_amt\n",
    "FROM t3\n",
    "LEFT JOIN t2 ON t3.region_id = t2.region_id AND t3.max_amt = t2.max_amt\n",
    "LEFT JOIN region r ON r.id = t3.region_id\n",
    "ORDER BY 3 DESC\n",
    "\n",
    "\n",
    "## -- SOLUTION 01.02\n",
    "WITH t1 AS (\n",
    "   SELECT s.name rep_name, r.name region_name, SUM(o.total_amt_usd) total_amt\n",
    "   FROM sales_reps s\n",
    "   JOIN accounts a\n",
    "   ON a.sales_rep_id = s.id\n",
    "   JOIN orders o\n",
    "   ON o.account_id = a.id\n",
    "   JOIN region r\n",
    "   ON r.id = s.region_id\n",
    "   GROUP BY 1,2\n",
    "   ORDER BY 3 DESC), \n",
    "t2 AS (\n",
    "   SELECT region_name, MAX(total_amt) total_amt\n",
    "   FROM t1\n",
    "   GROUP BY 1)\n",
    "SELECT t1.rep_name, t1.region_name, t1.total_amt\n",
    "FROM t1\n",
    "JOIN t2\n",
    "ON t1.region_name = t2.region_name AND t1.total_amt = t2.total_amt;"
   ]
  },
  {
   "cell_type": "code",
   "execution_count": null,
   "id": "980c5043-b3fd-4e21-8234-153ff4292c49",
   "metadata": {},
   "outputs": [],
   "source": [
    "##    2. For the region with the largest sales total_amt_usd, how many total orders were placed? \n",
    "\n",
    "WITH t1 as (\n",
    "    SELECT r.name r_name, SUM(total_amt_usd) sum_amt, COUNT(o.id) tt_orders\n",
    "    FROM sales_reps s \n",
    "    JOIN accounts a ON s.id = a.sales_rep_id\n",
    "    JOIN orders o ON a.id = o.account_id\n",
    "    JOIN region r ON r.id = s.region_id\n",
    "    GROUP BY 1\n",
    "    ORDER BY 2 DESC)\n",
    "\n",
    "SELECT *\n",
    "FROM t1\n",
    "LIMIT 1"
   ]
  },
  {
   "cell_type": "code",
   "execution_count": null,
   "id": "5246ecc7-8c52-4a1c-9051-67bdf47345d7",
   "metadata": {},
   "outputs": [],
   "source": [
    "##    2. For the region with the largest sales total_amt_usd, how many total orders were placed? \n",
    "\n",
    "WITH t1 as (\n",
    "    SELECT r.name r_name, SUM(total_amt_usd) sum_amt, COUNT(o.id) tt_orders\n",
    "    FROM sales_reps s \n",
    "    JOIN accounts a ON s.id = a.sales_rep_id\n",
    "    JOIN orders o ON a.id = o.account_id\n",
    "    JOIN region r ON r.id = s.region_id\n",
    "    GROUP BY 1\n",
    "    ORDER BY 2 DESC)\n",
    "\n",
    "SELECT *\n",
    "FROM t1\n",
    "LIMIT 1"
   ]
  }
 ],
 "metadata": {
  "kernelspec": {
   "display_name": "Python 3 (ipykernel)",
   "language": "python",
   "name": "python3"
  },
  "language_info": {
   "codemirror_mode": {
    "name": "ipython",
    "version": 3
   },
   "file_extension": ".py",
   "mimetype": "text/x-python",
   "name": "python",
   "nbconvert_exporter": "python",
   "pygments_lexer": "ipython3",
   "version": "3.9.12"
  }
 },
 "nbformat": 4,
 "nbformat_minor": 5
}
