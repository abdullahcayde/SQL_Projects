{
 "cells": [
  {
   "cell_type": "code",
   "execution_count": 1,
   "id": "bd99e6aa-69b2-4c36-8342-d7857ad62904",
   "metadata": {},
   "outputs": [],
   "source": [
    "# Libraries \n",
    "\n",
    "import psycopg2\n",
    "import psycopg2.extras"
   ]
  },
  {
   "cell_type": "markdown",
   "id": "40d468ee-db1c-4861-8a32-d8e4202178a9",
   "metadata": {},
   "source": [
    "# PostgreSQL"
   ]
  },
  {
   "cell_type": "markdown",
   "id": "728368db-1b75-4418-b26b-2e2392f089ce",
   "metadata": {},
   "source": [
    "## Connect to Database"
   ]
  },
  {
   "cell_type": "code",
   "execution_count": 3,
   "id": "8b3bcb99-57e5-4cb5-bd5a-ec7dbb1a0527",
   "metadata": {},
   "outputs": [],
   "source": [
    "hostname = 'localhost'\n",
    "database = 'sales'\n",
    "username = 'postgres'\n",
    "pwd = ....\n",
    "port_id = 5432\n",
    "\n",
    "conn = psycopg2.connect(\n",
    "    host = hostname,\n",
    "    dbname = database,\n",
    "    user = username,\n",
    "    password = pwd,\n",
    "    port = port_id)\n",
    "\n",
    "cur = conn.cursor(cursor_factory = psycopg2.extras.DictCursor)"
   ]
  },
  {
   "cell_type": "markdown",
   "id": "de017deb-f509-4823-b4f6-3a322925235d",
   "metadata": {},
   "source": [
    "## Look at all Table Names"
   ]
  },
  {
   "cell_type": "code",
   "execution_count": 4,
   "id": "8b831b31-83ff-4549-8744-ad7572b821bb",
   "metadata": {},
   "outputs": [
    {
     "name": "stdout",
     "output_type": "stream",
     "text": [
      "['sales', 'public', 'employee', 'BASE TABLE', None, None, None, None, None, 'YES', 'NO', None]\n",
      "['sales', 'public', 'web_events', 'BASE TABLE', None, None, None, None, None, 'YES', 'NO', None]\n",
      "['sales', 'public', 'sales_reps', 'BASE TABLE', None, None, None, None, None, 'YES', 'NO', None]\n",
      "['sales', 'public', 'region', 'BASE TABLE', None, None, None, None, None, 'YES', 'NO', None]\n",
      "['sales', 'public', 'orders', 'BASE TABLE', None, None, None, None, None, 'YES', 'NO', None]\n",
      "['sales', 'public', 'accounts', 'BASE TABLE', None, None, None, None, None, 'YES', 'NO', None]\n"
     ]
    }
   ],
   "source": [
    "query = \"SELECT * FROM information_schema.tables WHERE table_schema = 'public'\"\n",
    "cur.execute(query)\n",
    "for record in cur.fetchall():\n",
    "    print(record)"
   ]
  },
  {
   "cell_type": "markdown",
   "id": "d86cf43b-ecb0-429e-8d54-39eb9bfbe0e6",
   "metadata": {},
   "source": [
    "## General Look all Tables"
   ]
  },
  {
   "cell_type": "code",
   "execution_count": null,
   "id": "ee28ae60-88db-4260-8586-265ff5651085",
   "metadata": {},
   "outputs": [],
   "source": []
  },
  {
   "cell_type": "markdown",
   "id": "2736a124-c20c-474f-b29d-33c056df7116",
   "metadata": {},
   "source": [
    "### web_events"
   ]
  },
  {
   "cell_type": "code",
   "execution_count": 5,
   "id": "416b17fe-3d77-4fe4-9011-7bd4e38f2bcf",
   "metadata": {},
   "outputs": [
    {
     "name": "stdout",
     "output_type": "stream",
     "text": [
      "[1, 1001, datetime.datetime(2015, 10, 6, 17, 13, 58), 'direct']\n",
      "[2, 1001, datetime.datetime(2015, 11, 5, 3, 8, 26), 'direct']\n",
      "[3, 1001, datetime.datetime(2015, 12, 4, 3, 57, 24), 'direct']\n",
      "[4, 1001, datetime.datetime(2016, 1, 2, 0, 55, 3), 'direct']\n",
      "[5, 1001, datetime.datetime(2016, 2, 1, 19, 2, 33), 'direct']\n"
     ]
    }
   ],
   "source": [
    "query = 'SELECT * FROM web_events LIMIT 5'\n",
    "cur.execute(query)\n",
    "for record in cur.fetchall():\n",
    "    print(record)"
   ]
  },
  {
   "cell_type": "markdown",
   "id": "8a2c2f8d-cba1-4fca-8c80-b3b9b5bd48f3",
   "metadata": {},
   "source": [
    "### accounts"
   ]
  },
  {
   "cell_type": "code",
   "execution_count": 6,
   "id": "4f81f76f-99f3-4905-9f76-5254152d7ac4",
   "metadata": {},
   "outputs": [
    {
     "name": "stdout",
     "output_type": "stream",
     "text": [
      "[1001, 'Walmart', 'www.walmart.com', Decimal('40.23849561'), Decimal('-75.10329704'), 'Tamara Tuma', 321500]\n",
      "[1011, 'Exxon Mobil', 'www.exxonmobil.com', Decimal('41.16915630'), Decimal('-73.84937379'), 'Sung Shields', 321510]\n",
      "[1021, 'Apple', 'www.apple.com', Decimal('42.29049481'), Decimal('-76.08400942'), 'Jodee Lupo', 321520]\n",
      "[1031, 'Berkshire Hathaway', 'www.berkshirehathaway.com', Decimal('40.94902131'), Decimal('-75.76389759'), 'Serafina Banda', 321530]\n",
      "[1041, 'McKesson', 'www.mckesson.com', Decimal('42.21709326'), Decimal('-75.28499823'), 'Angeles Crusoe', 321540]\n"
     ]
    }
   ],
   "source": [
    "query = 'SELECT * FROM accounts LIMIT 5'\n",
    "cur.execute(query)\n",
    "for record in cur.fetchall():\n",
    "    print(record)"
   ]
  },
  {
   "cell_type": "markdown",
   "id": "48fad56a-3211-4f3b-9288-486622cedc13",
   "metadata": {},
   "source": [
    "### orders "
   ]
  },
  {
   "cell_type": "code",
   "execution_count": 7,
   "id": "c1d03a77-35e5-4f05-b300-3288ac75fe4d",
   "metadata": {},
   "outputs": [
    {
     "name": "stdout",
     "output_type": "stream",
     "text": [
      "[1, 1001, datetime.datetime(2015, 10, 6, 17, 31, 14), 123, 22, 24, 169, Decimal('613.77'), Decimal('164.78'), Decimal('194.88'), Decimal('973.43')]\n",
      "[2, 1001, datetime.datetime(2015, 11, 5, 3, 34, 33), 190, 41, 57, 288, Decimal('948.10'), Decimal('307.09'), Decimal('462.84'), Decimal('1718.03')]\n",
      "[3, 1001, datetime.datetime(2015, 12, 4, 4, 21, 55), 85, 47, 0, 132, Decimal('424.15'), Decimal('352.03'), Decimal('0.00'), Decimal('776.18')]\n",
      "[4, 1001, datetime.datetime(2016, 1, 2, 1, 18, 24), 144, 32, 0, 176, Decimal('718.56'), Decimal('239.68'), Decimal('0.00'), Decimal('958.24')]\n",
      "[5, 1001, datetime.datetime(2016, 2, 1, 19, 27, 27), 108, 29, 28, 165, Decimal('538.92'), Decimal('217.21'), Decimal('227.36'), Decimal('983.49')]\n"
     ]
    }
   ],
   "source": [
    "query = 'SELECT * FROM orders LIMIT 5'\n",
    "cur.execute(query)\n",
    "for record in cur.fetchall():\n",
    "    print(record)"
   ]
  },
  {
   "cell_type": "markdown",
   "id": "a262335d-b2e8-44ce-8e85-d595f61013a5",
   "metadata": {},
   "source": [
    "### sales_reps"
   ]
  },
  {
   "cell_type": "code",
   "execution_count": 8,
   "id": "b32a1963-e93e-4520-ab99-f641dbd8865e",
   "metadata": {},
   "outputs": [
    {
     "name": "stdout",
     "output_type": "stream",
     "text": [
      "[321500, 'Samuel Racine', 1]\n",
      "[321510, 'Eugena Esser', 1]\n",
      "[321520, 'Michel Averette', 1]\n",
      "[321530, 'Renetta Carew', 1]\n",
      "[321540, 'Cara Clarke', 1]\n"
     ]
    }
   ],
   "source": [
    "query = 'SELECT * FROM sales_reps LIMIT 5'\n",
    "cur.execute(query)\n",
    "for record in cur.fetchall():\n",
    "    print(record)"
   ]
  },
  {
   "cell_type": "markdown",
   "id": "8218535f-3ff0-41ca-8cb6-98af078e3225",
   "metadata": {},
   "source": [
    "### region"
   ]
  },
  {
   "cell_type": "code",
   "execution_count": 9,
   "id": "d65199b5-40ba-4e57-b164-a347595fa839",
   "metadata": {},
   "outputs": [
    {
     "name": "stdout",
     "output_type": "stream",
     "text": [
      "[1, 'Northeast']\n",
      "[2, 'Midwest']\n",
      "[3, 'Southeast']\n",
      "[4, 'West']\n"
     ]
    }
   ],
   "source": [
    "query = 'SELECT * FROM region LIMIT 5'\n",
    "cur.execute(query)\n",
    "for record in cur.fetchall():\n",
    "    print(record)"
   ]
  },
  {
   "cell_type": "code",
   "execution_count": null,
   "id": "69715b3f-392e-4ff1-bef8-c3d1f3a898dc",
   "metadata": {},
   "outputs": [],
   "source": []
  }
 ],
 "metadata": {
  "kernelspec": {
   "display_name": "Python 3 (ipykernel)",
   "language": "python",
   "name": "python3"
  },
  "language_info": {
   "codemirror_mode": {
    "name": "ipython",
    "version": 3
   },
   "file_extension": ".py",
   "mimetype": "text/x-python",
   "name": "python",
   "nbconvert_exporter": "python",
   "pygments_lexer": "ipython3",
   "version": "3.9.12"
  }
 },
 "nbformat": 4,
 "nbformat_minor": 5
}
